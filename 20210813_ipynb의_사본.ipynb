{
  "nbformat": 4,
  "nbformat_minor": 0,
  "metadata": {
    "colab": {
      "name": "20210813.ipynb의 사본",
      "provenance": [],
      "authorship_tag": "ABX9TyPvwib4lQ8MzXTzBNrd41l/",
      "include_colab_link": true
    },
    "kernelspec": {
      "name": "python3",
      "display_name": "Python 3"
    },
    "language_info": {
      "name": "python"
    }
  },
  "cells": [
    {
      "cell_type": "markdown",
      "metadata": {
        "id": "view-in-github",
        "colab_type": "text"
      },
      "source": [
        "<a href=\"https://colab.research.google.com/github/Joocheol/Machine-Learning-in-Financial-Engineering/blob/main/20210813_ipynb%EC%9D%98_%EC%82%AC%EB%B3%B8.ipynb\" target=\"_parent\"><img src=\"https://colab.research.google.com/assets/colab-badge.svg\" alt=\"Open In Colab\"/></a>"
      ]
    },
    {
      "cell_type": "code",
      "metadata": {
        "id": "4DQ5NQbdTdap"
      },
      "source": [
        "import numpy as np\n",
        "import matplotlib.pyplot as plt"
      ],
      "execution_count": null,
      "outputs": []
    },
    {
      "cell_type": "code",
      "metadata": {
        "colab": {
          "base_uri": "https://localhost:8080/"
        },
        "id": "DxROC_yYTz_o",
        "outputId": "00dc51fc-d7d2-42ef-f5cb-cc5d1e8da45d"
      },
      "source": [
        "x = np.linspace(-3,3,100)\n",
        "print(x)"
      ],
      "execution_count": null,
      "outputs": [
        {
          "output_type": "stream",
          "text": [
            "[-3.         -2.93939394 -2.87878788 -2.81818182 -2.75757576 -2.6969697\n",
            " -2.63636364 -2.57575758 -2.51515152 -2.45454545 -2.39393939 -2.33333333\n",
            " -2.27272727 -2.21212121 -2.15151515 -2.09090909 -2.03030303 -1.96969697\n",
            " -1.90909091 -1.84848485 -1.78787879 -1.72727273 -1.66666667 -1.60606061\n",
            " -1.54545455 -1.48484848 -1.42424242 -1.36363636 -1.3030303  -1.24242424\n",
            " -1.18181818 -1.12121212 -1.06060606 -1.         -0.93939394 -0.87878788\n",
            " -0.81818182 -0.75757576 -0.6969697  -0.63636364 -0.57575758 -0.51515152\n",
            " -0.45454545 -0.39393939 -0.33333333 -0.27272727 -0.21212121 -0.15151515\n",
            " -0.09090909 -0.03030303  0.03030303  0.09090909  0.15151515  0.21212121\n",
            "  0.27272727  0.33333333  0.39393939  0.45454545  0.51515152  0.57575758\n",
            "  0.63636364  0.6969697   0.75757576  0.81818182  0.87878788  0.93939394\n",
            "  1.          1.06060606  1.12121212  1.18181818  1.24242424  1.3030303\n",
            "  1.36363636  1.42424242  1.48484848  1.54545455  1.60606061  1.66666667\n",
            "  1.72727273  1.78787879  1.84848485  1.90909091  1.96969697  2.03030303\n",
            "  2.09090909  2.15151515  2.21212121  2.27272727  2.33333333  2.39393939\n",
            "  2.45454545  2.51515152  2.57575758  2.63636364  2.6969697   2.75757576\n",
            "  2.81818182  2.87878788  2.93939394  3.        ]\n"
          ],
          "name": "stdout"
        }
      ]
    },
    {
      "cell_type": "code",
      "metadata": {
        "colab": {
          "base_uri": "https://localhost:8080/"
        },
        "id": "NUYOMdduUCKf",
        "outputId": "0e1ddf69-1ec9-4a28-eac7-1f54e2e0228d"
      },
      "source": [
        "y =  np.exp(-0.5 * x ** 2)\n",
        "print(y)"
      ],
      "execution_count": null,
      "outputs": [
        {
          "output_type": "stream",
          "text": [
            "[0.011109   0.01329964 0.01586389 0.01885317 0.02232357 0.02633589\n",
            " 0.03095544 0.0362519  0.04229893 0.04917368 0.05695619 0.06572853\n",
            " 0.07557387 0.08657535 0.09881472 0.11237088 0.12731828 0.14372506\n",
            " 0.16165125 0.18114669 0.20224908 0.22498185 0.24935221 0.27534915\n",
            " 0.30294171 0.3320773  0.36268041 0.39465155 0.42786653 0.46217624\n",
            " 0.49740678 0.53336019 0.56981553 0.60653066 0.64324443 0.6796794\n",
            " 0.71554503 0.75054136 0.78436298 0.81670336 0.84725938 0.87573605\n",
            " 0.90185116 0.92533992 0.94595947 0.96349297 0.97775348 0.98858721\n",
            " 0.99587629 0.99954097 0.99954097 0.99587629 0.98858721 0.97775348\n",
            " 0.96349297 0.94595947 0.92533992 0.90185116 0.87573605 0.84725938\n",
            " 0.81670336 0.78436298 0.75054136 0.71554503 0.6796794  0.64324443\n",
            " 0.60653066 0.56981553 0.53336019 0.49740678 0.46217624 0.42786653\n",
            " 0.39465155 0.36268041 0.3320773  0.30294171 0.27534915 0.24935221\n",
            " 0.22498185 0.20224908 0.18114669 0.16165125 0.14372506 0.12731828\n",
            " 0.11237088 0.09881472 0.08657535 0.07557387 0.06572853 0.05695619\n",
            " 0.04917368 0.04229893 0.0362519  0.03095544 0.02633589 0.02232357\n",
            " 0.01885317 0.01586389 0.01329964 0.011109  ]\n"
          ],
          "name": "stdout"
        }
      ]
    },
    {
      "cell_type": "code",
      "metadata": {
        "colab": {
          "base_uri": "https://localhost:8080/",
          "height": 283
        },
        "id": "JgvkaQ6rUOEI",
        "outputId": "8aa050ef-ed86-40dc-e707-88ba2ecdd777"
      },
      "source": [
        "plt.plot(x,y)"
      ],
      "execution_count": null,
      "outputs": [
        {
          "output_type": "execute_result",
          "data": {
            "text/plain": [
              "[<matplotlib.lines.Line2D at 0x7f9a6c909ed0>]"
            ]
          },
          "metadata": {
            "tags": []
          },
          "execution_count": 5
        },
        {
          "output_type": "display_data",
          "data": {
            "image/png": "[encoded data removed]",
            "text/plain": [
              "<Figure size 432x288 with 1 Axes>"
            ]
          },
          "metadata": {
            "tags": [],
            "needs_background": "light"
          }
        }
      ]
    },
    {
      "cell_type": "markdown",
      "metadata": {
        "id": "dDKBlPccU6w9"
      },
      "source": [
        "$$f(x) = e^{-\\frac{1}{2} x^2}$$"
      ]
    },
    {
      "cell_type": "code",
      "metadata": {
        "id": "LsFJU7bEUSmI"
      },
      "source": [
        "from scipy.stats import norm"
      ],
      "execution_count": null,
      "outputs": []
    },
    {
      "cell_type": "code",
      "metadata": {
        "id": "YkmiDbi-YmG2",
        "colab": {
          "base_uri": "https://localhost:8080/"
        },
        "outputId": "8ad1584d-d858-4379-abd0-3f8ebc7d4f88"
      },
      "source": [
        "norm.cdf(0)"
      ],
      "execution_count": null,
      "outputs": [
        {
          "output_type": "execute_result",
          "data": {
            "text/plain": [
              "0.5"
            ]
          },
          "metadata": {
            "tags": []
          },
          "execution_count": 7
        }
      ]
    },
    {
      "cell_type": "markdown",
      "metadata": {
        "id": "_WHj5D3iglWp"
      },
      "source": [
        "$$c = S_t N(d_1) - K e^{-(T-t)} N(d_2) $$\n",
        "where \n",
        "$$d_1 = \\frac{\\ln (S_t/K) +(r+\\frac{1}{2} \\sigma^2 ) (T-t)}{\\sigma \\sqrt{T-t}}$$ and\n",
        "$$d_2 = \\frac{\\ln (S_t/K) +(r-\\frac{1}{2} \\sigma^2 ) (T-t)}{\\sigma \\sqrt{T-t}}$$"
      ]
    },
    {
      "cell_type": "code",
      "metadata": {
        "id": "SHihE3-DYorE"
      },
      "source": [
        "S = 100\n",
        "K = 110\n",
        "r = 0.05\n",
        "sig = 0.2\n",
        "tau = 0.25\n"
      ],
      "execution_count": null,
      "outputs": []
    },
    {
      "cell_type": "code",
      "metadata": {
        "id": "ClMEjLUBinDA",
        "colab": {
          "base_uri": "https://localhost:8080/"
        },
        "outputId": "41521e78-17e7-4479-b9dd-e59fe24b7874"
      },
      "source": [
        "d_1 = (np.log(S/K) + (r+0.5*sig**2) * tau)/(sig * np.sqrt(tau))\n",
        "print(d_1)\n",
        "\n",
        "d_2 = (np.log(S/K) + (r-0.5*sig**2) * tau)/(sig * np.sqrt(tau))\n",
        "print(d_2)"
      ],
      "execution_count": null,
      "outputs": [
        {
          "output_type": "stream",
          "text": [
            "-0.7781017980432489\n",
            "-0.878101798043249\n"
          ],
          "name": "stdout"
        }
      ]
    },
    {
      "cell_type": "code",
      "metadata": {
        "id": "tzyZcBXIitFe",
        "colab": {
          "base_uri": "https://localhost:8080/"
        },
        "outputId": "f6ebd84e-c74b-46c5-d340-f796309bac92"
      },
      "source": [
        "norm.cdf(d_1)"
      ],
      "execution_count": null,
      "outputs": [
        {
          "output_type": "execute_result",
          "data": {
            "text/plain": [
              "0.21825450140567387"
            ]
          },
          "metadata": {
            "tags": []
          },
          "execution_count": 58
        }
      ]
    },
    {
      "cell_type": "code",
      "metadata": {
        "id": "uEdMuttQjAbF",
        "colab": {
          "base_uri": "https://localhost:8080/"
        },
        "outputId": "c79ed30a-77f2-430b-fd11-b2a54f14de3f"
      },
      "source": [
        "norm.cdf(d_2)"
      ],
      "execution_count": null,
      "outputs": [
        {
          "output_type": "execute_result",
          "data": {
            "text/plain": [
              "0.18994423865446092"
            ]
          },
          "metadata": {
            "tags": []
          },
          "execution_count": 59
        }
      ]
    },
    {
      "cell_type": "code",
      "metadata": {
        "id": "tV_4WnzAjEr8",
        "colab": {
          "base_uri": "https://localhost:8080/"
        },
        "outputId": "70e17910-c73f-44e0-8b60-884d9177b0b5"
      },
      "source": [
        "S * norm.cdf(d_1) - K * np.exp(-r*tau) * norm.cdf(d_2)"
      ],
      "execution_count": null,
      "outputs": [
        {
          "output_type": "execute_result",
          "data": {
            "text/plain": [
              "1.1911316636130742"
            ]
          },
          "metadata": {
            "tags": []
          },
          "execution_count": 60
        }
      ]
    },
    {
      "cell_type": "code",
      "metadata": {
        "id": "Z4LZrfO7jPQb"
      },
      "source": [
        "class BSCall:\n",
        "    def __init__(self, S, K, tau, r, s):\n",
        "        self.a = S\n",
        "        self.b = K\n",
        "        self.c = tau\n",
        "        self.d = r\n",
        "        self.e = s \n",
        "\n",
        "    def __call__(self):\n",
        "        print('Hi')\n",
        "\n",
        "    def value(self):\n",
        "        d_1 = (np.log(self.a/self.b) + (self.d+0.5*self.e**2) * self.c)/(self.e * np.sqrt(self.c))\n",
        "        \n",
        "        return norm.cdf(d_1)\n"
      ],
      "execution_count": null,
      "outputs": []
    },
    {
      "cell_type": "code",
      "metadata": {
        "id": "_vdTjQMpkk7c",
        "colab": {
          "base_uri": "https://localhost:8080/"
        },
        "outputId": "2204e2eb-a770-43f1-88a9-1e9109186044"
      },
      "source": [
        "BSCall(S, K, tau, r, sig)"
      ],
      "execution_count": null,
      "outputs": [
        {
          "output_type": "execute_result",
          "data": {
            "text/plain": [
              "<__main__.BSCall at 0x7f9a5e658950>"
            ]
          },
          "metadata": {
            "tags": []
          },
          "execution_count": 107
        }
      ]
    },
    {
      "cell_type": "code",
      "metadata": {
        "id": "f-e7SaArkyq7"
      },
      "source": [
        "a = BSCall(S, K, tau, r, sig)"
      ],
      "execution_count": null,
      "outputs": []
    },
    {
      "cell_type": "code",
      "metadata": {
        "id": "cGket_nLk88y",
        "colab": {
          "base_uri": "https://localhost:8080/"
        },
        "outputId": "de742ea9-993b-4d34-91dc-95fb41b89227"
      },
      "source": [
        "a.a"
      ],
      "execution_count": null,
      "outputs": [
        {
          "output_type": "execute_result",
          "data": {
            "text/plain": [
              "100"
            ]
          },
          "metadata": {
            "tags": []
          },
          "execution_count": 109
        }
      ]
    },
    {
      "cell_type": "code",
      "metadata": {
        "id": "W2sJ3VcHk9zx",
        "colab": {
          "base_uri": "https://localhost:8080/"
        },
        "outputId": "88d4dfd9-487c-4a2e-8bd6-0adba44d953e"
      },
      "source": [
        "a()"
      ],
      "execution_count": null,
      "outputs": [
        {
          "output_type": "stream",
          "text": [
            "Hi\n"
          ],
          "name": "stdout"
        }
      ]
    },
    {
      "cell_type": "code",
      "metadata": {
        "id": "P0_OZenGlaQn",
        "colab": {
          "base_uri": "https://localhost:8080/"
        },
        "outputId": "5d073cff-73ad-48e5-b1eb-0e16a92bf65a"
      },
      "source": [
        "a.value()"
      ],
      "execution_count": null,
      "outputs": [
        {
          "output_type": "execute_result",
          "data": {
            "text/plain": [
              "0.21825450140567387"
            ]
          },
          "metadata": {
            "tags": []
          },
          "execution_count": 111
        }
      ]
    },
    {
      "cell_type": "code",
      "metadata": {
        "id": "dSY-IMGemFLU"
      },
      "source": [
        "b = BSCall(100, 90, 1, 0.01, 0.3)"
      ],
      "execution_count": null,
      "outputs": []
    },
    {
      "cell_type": "code",
      "metadata": {
        "id": "9xuPDgNTm3NB",
        "colab": {
          "base_uri": "https://localhost:8080/"
        },
        "outputId": "733f3dd9-01df-48ad-97a1-1b672c0c4d98"
      },
      "source": [
        "b.value()"
      ],
      "execution_count": null,
      "outputs": [
        {
          "output_type": "execute_result",
          "data": {
            "text/plain": [
              "0.7035142975487264"
            ]
          },
          "metadata": {
            "tags": []
          },
          "execution_count": 114
        }
      ]
    },
    {
      "cell_type": "code",
      "metadata": {
        "id": "KIqUaizom6OO"
      },
      "source": [
        ""
      ],
      "execution_count": null,
      "outputs": []
    }
  ]
}